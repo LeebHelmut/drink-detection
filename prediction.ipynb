{
 "cells": [
  {
   "cell_type": "code",
   "execution_count": 1,
   "metadata": {},
   "outputs": [
    {
     "name": "stderr",
     "output_type": "stream",
     "text": [
      "Using TensorFlow backend.\n"
     ]
    }
   ],
   "source": [
    "import tensorflow as tf\n",
    "%matplotlib inline\n",
    "import matplotlib.pylab as plt\n",
    "import numpy as np\n",
    "from keras.preprocessing import image    \n",
    "import os\n",
    "import PIL.Image as Image"
   ]
  },
  {
   "cell_type": "markdown",
   "metadata": {},
   "source": [
    "## load images and classes"
   ]
  },
  {
   "cell_type": "code",
   "execution_count": 5,
   "metadata": {},
   "outputs": [
    {
     "name": "stdout",
     "output_type": "stream",
     "text": [
      "Found 36 images belonging to 4 classes.\n"
     ]
    }
   ],
   "source": [
    "IMG_HEIGHT, IMG_WIDTH = 128, 128\n",
    "\n",
    "test_dir = \"./images/to_predict/\" #todo use to_predict\n",
    "\n",
    "test_image_generator = tf.keras.preprocessing.image.ImageDataGenerator(\n",
    "    rescale=1./255,\n",
    "    rotation_range=0,\n",
    "    width_shift_range=0,\n",
    "    height_shift_range=0,\n",
    "    brightness_range=(1, 1),\n",
    "    horizontal_flip=False,\n",
    "    vertical_flip=False\n",
    ")\n",
    "\n",
    "test_data = test_image_generator.flow_from_directory(batch_size=36,\n",
    "                                                           directory=test_dir,\n",
    "                                                           shuffle=False,\n",
    "                                                           target_size=(IMG_HEIGHT, IMG_WIDTH))\n"
   ]
  },
  {
   "cell_type": "markdown",
   "metadata": {},
   "source": [
    "## predict images"
   ]
  },
  {
   "cell_type": "code",
   "execution_count": null,
   "metadata": {},
   "outputs": [
    {
     "name": "stdout",
     "output_type": "stream",
     "text": [
      "Predicted Images test_model:\n"
     ]
    }
   ],
   "source": [
    "def predict_images(model, name):\n",
    "    print(\"Predicted Images %s:\" % name)\n",
    "    \n",
    "    images, labels = next(test_data)\n",
    "    class_labels = {v:k for k,v in test_data.class_indices.items()}\n",
    "    \n",
    "    fig, axes = plt.subplots(6, 6, figsize=(20,20))\n",
    "    axes = axes.flatten()\n",
    "   \n",
    "    for img, label, ax in zip(images, labels, axes):\n",
    "        actual_class = np.argmax(label)\n",
    "        actual_label = class_labels[actual_class]\n",
    "        \n",
    "        prediction = model.predict(img[np.newaxis,:])\n",
    "        \n",
    "        predicted_class = np.argmax(prediction[0], axis=-1)\n",
    "        predicted_label = class_labels[predicted_class]\n",
    "        \n",
    "        ax.set_title(\"Pred %s / Act %s\" % (predicted_label, actual_label))\n",
    "        ax.imshow(img)\n",
    "        ax.axis('off')\n",
    "        \n",
    "        \n",
    "model = tf.keras.models.load_model('models/drink-detection-model1-g1.h5')\n",
    "predict_images(model, \"test_model\") \n",
    "        \n",
    "\n",
    "    "
   ]
  },
  {
   "cell_type": "markdown",
   "metadata": {},
   "source": [
    "## load models"
   ]
  },
  {
   "cell_type": "code",
   "execution_count": null,
   "metadata": {},
   "outputs": [],
   "source": [
    "for f in os.listdir(\"./modelsa/\"):\n",
    "    model = tf.keras.models.load_model('models/%s' % f)\n",
    "    predict_images(model, f)\n",
    "    "
   ]
  },
  {
   "cell_type": "code",
   "execution_count": null,
   "metadata": {},
   "outputs": [],
   "source": []
  }
 ],
 "metadata": {
  "kernelspec": {
   "display_name": "Python 3",
   "language": "python",
   "name": "python3"
  },
  "language_info": {
   "codemirror_mode": {
    "name": "ipython",
    "version": 3
   },
   "file_extension": ".py",
   "mimetype": "text/x-python",
   "name": "python",
   "nbconvert_exporter": "python",
   "pygments_lexer": "ipython3",
   "version": "3.7.3"
  }
 },
 "nbformat": 4,
 "nbformat_minor": 2
}
